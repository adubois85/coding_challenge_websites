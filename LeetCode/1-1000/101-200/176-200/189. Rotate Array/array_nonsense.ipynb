{
    "cells": [
        {
            "cell_type": "code",
            "execution_count": 975,
            "source": [
                "# class Solution:\n",
                "#     def rotate(self, nums, k):\n",
                "#         start = end = len(nums)\n",
                "#         if k >= start:\n",
                "#             k = k % start\n",
                "#         if k == 0:\n",
                "#             return\n",
                "#         start -= k\n",
                "#         for i in range(end - end % k):\n",
                "#             temp = nums[i]\n",
                "#             nums[i] = nums[start]\n",
                "#             nums[start] = temp\n",
                "#             start += 1\n",
                "#             if start == end:\n",
                "#                 start = end - k\n",
                "#         for i in range(end % k):\n",
                "#             temp = nums[(end - end % k) + i]\n",
                "#             print(temp)\n",
                "#         # for i in range(k):\n",
                "#         #     start = end % k\n",
                "#         #     temp = nums[i + ]\n",
                "#         #     print(nums[start + i - k])\n",
                "\n",
                "\n"
            ],
            "outputs": [],
            "metadata": {}
        },
        {
            "cell_type": "code",
            "execution_count": 1461,
            "source": [
                "# class Solution:\n",
                "#     def rotate(self, nums, k):\n",
                "#         start = end = len(nums)\n",
                "#         if k >= start:\n",
                "#             k = k % start\n",
                "#         if k == 0:\n",
                "#             return\n",
                "#         x = end % k\n",
                "#         y = end - x\n",
                "#         start -= k\n",
                "#         for i in range(end - 1):\n",
                "#             temp = nums[i]\n",
                "#             nums[i] = nums[start]\n",
                "#             nums[start] = temp\n",
                "#             start += 1\n",
                "#             if start == end:\n",
                "#                 if i + k > end - 1:\n",
                "#                     start = y\n",
                "#                 else:\n",
                "#                     start = end - k\n",
                "#             print(nums)"
            ],
            "outputs": [],
            "metadata": {}
        },
        {
            "cell_type": "code",
            "execution_count": 1165,
            "source": [
                "# class Solution:\n",
                "#     def rotated(self, nums, k):\n",
                "#         start = end = len(nums)\n",
                "#         if k >= start:\n",
                "#             k = k % start\n",
                "#         if k == 0:\n",
                "#             return\n",
                "#         start -= end % k\n",
                "#         x = end - k\n",
                "#         for i in range(start):\n",
                "#             temp = nums[i]\n",
                "#             nums[i] = nums[x]\n",
                "#             nums[x] = temp\n",
                "#             x += 1\n",
                "#             if x == end:\n",
                "#                 x = end - k\n",
                "#             print(nums)\n",
                "#         print(\"Hello\")\n",
                "#         for i in range(end % k):\n",
                "#             print(nums)\n",
                "#             temp = nums[start + i]\n",
                "#             nums[start + i] = nums[end - 1]\n",
                "#             nums[end - 1] = temp"
            ],
            "outputs": [],
            "metadata": {}
        },
        {
            "cell_type": "code",
            "execution_count": 1584,
            "source": [
                "# class Solution:\n",
                "#     def rotate(self, nums, k):\n",
                "#         end = len(nums)\n",
                "#         if k >= end:\n",
                "#             k = k % end\n",
                "#         while k != 0:\n",
                "#             x = end % k\n",
                "#             # end = 12, k = 7, x = 5\n",
                "#             start = 0\n",
                "#             for i in range(x):\n",
                "#                 print(nums)\n",
                "#                 temp = nums[start]\n",
                "#                 nums[start] = nums[(i+k) % end]\n",
                "#                 nums[(i+k) % end] = temp\n",
                "#                 if start + 1 == k:\n",
                "#                     start = 0\n",
                "#                 else:\n",
                "#                     start += 1\n",
                "#             if x == 0:\n",
                "#                 return\n",
                "#             end = end - x\n",
                "#             k = k % x\n",
                "#             print(end, k)"
            ],
            "outputs": [],
            "metadata": {}
        },
        {
            "cell_type": "code",
            "execution_count": 1654,
            "source": [
                "# class Solution:\n",
                "#     def rotate(self, nums, k):\n",
                "#         end = len(nums)\n",
                "#         if k >= end:\n",
                "#             k = k % end\n",
                "#         if k == 0:\n",
                "#             return\n",
                "#         start = k\n",
                "#         if k > end // 2:\n",
                "#             iter = k\n",
                "#         else:\n",
                "#             iter = end\n",
                "#         for i in range(iter):\n",
                "#             temp = nums[i]\n",
                "#             nums[i] = nums[-start]\n",
                "#             nums[-start] = temp\n",
                "#             start -= 1\n",
                "#             if start <= 0:\n",
                "#                 if i + k > end - 1:\n",
                "#                     start = k % (end % k)\n",
                "#                     # start = end % k\n",
                "#                     # start = (end % k) % (end % k)\n",
                "#                 else:\n",
                "#                     start = k\n",
                "#             print(nums)"
            ],
            "outputs": [],
            "metadata": {}
        },
        {
            "cell_type": "code",
            "execution_count": 5,
            "source": [
                "# class Solution:\n",
                "#     def rotate(self, nums, k):\n",
                "#         end = len(nums)\n",
                "#         if k >= end:\n",
                "#             k = k % end\n",
                "#         if k == 0:\n",
                "#             return\n",
                "#         start = k\n",
                "#         iter = end - end % k\n",
                "#         for i in range(iter):\n",
                "#             temp = nums[i]\n",
                "#             nums[i] = nums[-start]\n",
                "#             nums[-start] = temp\n",
                "#             start -= 1\n",
                "#             if start == 0:\n",
                "#                 start = k\n",
                "#         offset = iter\n",
                "#         x = 0\n",
                "#         iter = end - iter - 1\n",
                "#         start = offset + iter\n",
                "#         for i in range(iter):\n",
                "#             print(nums, f\" start = {start}\")\n",
                "#             temp = nums[offset + i]\n",
                "#             nums[offset + i] = nums[start]\n",
                "#             nums[start] = temp\n",
                "#             start += 1\n",
                "#             if start == end:\n",
                "#                 start = offset"
            ],
            "outputs": [],
            "metadata": {}
        },
        {
            "cell_type": "code",
            "execution_count": null,
            "source": [],
            "outputs": [],
            "metadata": {}
        },
        {
            "cell_type": "code",
            "execution_count": 25,
            "source": [
                "# class Solution:\n",
                "#     def rotate(self, nums, k):\n",
                "#         end = len(nums)\n",
                "#         if k >= end:\n",
                "#             k = k % end\n",
                "#         if k == 0:\n",
                "#             return\n",
                "#         start = k\n",
                "#         iter = end - end % k\n",
                "#         for i in range(end - 1):\n",
                "#             print(nums[i], nums[-start])\n",
                "#             temp = nums[i]\n",
                "#             nums[i] = nums[-start]\n",
                "#             nums[-start] = temp\n",
                "#             start -= 1\n",
                "#             print(nums)\n",
                "#             if start == 0:\n",
                "#                 if i + k > end:\n",
                "#                     start = end % (end % k)\n",
                "#                 else:\n",
                "#                     start = k"
            ],
            "outputs": [],
            "metadata": {}
        },
        {
            "cell_type": "code",
            "execution_count": 238,
            "source": [
                "# class Solution:\n",
                "#     def rotate(self, nums, k):\n",
                "#         end = len(nums)\n",
                "#         if k >= end:\n",
                "#             k = k % end\n",
                "#         if k == 0:\n",
                "#             return\n",
                "#         start = k\n",
                "#         x = end - k\n",
                "#         iter = end - end % k\n",
                "#         for i in range(iter):\n",
                "#             temp =  nums[-start]\n",
                "#             nums[-start] = nums[i]\n",
                "#             nums[i] = temp\n",
                "#             start -= 1\n",
                "#             if start == 0:\n",
                "#                 start = k\n",
                "#         offset = iter\n",
                "#         iter = end % k\n",
                "#         if iter == 0:\n",
                "#             return\n",
                "#         start = k % iter\n",
                "#         print(offset, start, iter)\n",
                "#         for i in range(iter - 1):\n",
                "#             temp = nums[offset + i]\n",
                "#             nums[offset + i] = nums[-start]\n",
                "#             nums[-start] = temp\n",
                "#             start -= 1\n",
                "#             if start == 0:\n",
                "#                 start = k % iter"
            ],
            "outputs": [],
            "metadata": {}
        },
        {
            "cell_type": "code",
            "execution_count": 252,
            "source": [
                "# class Solution:\n",
                "#     def rotate(self, nums, k):\n",
                "#         end = len(nums)\n",
                "#         if k >= end:\n",
                "#             k = k % end\n",
                "#         if k == 0:\n",
                "#             return\n",
                "#         start = k\n",
                "#         iter = end - end % k\n",
                "#         print(iter)\n",
                "#         for i in range(end - 1):\n",
                "#             temp =  nums[-start]\n",
                "#             nums[-start] = nums[i]\n",
                "#             nums[i] = temp\n",
                "#             start -= 1\n",
                "#             if start == 0:\n",
                "#                 start = k\n",
                "#             if i + 2 > iter:\n",
                "#                 start = k % (end % k)\n",
                "#                 # print(nums, i)\n",
                "#                 # start = k % iter\n",
                "#             print(nums, i)\n",
                "#         # offset = iter\n",
                "#         # iter = end % k\n",
                "#         # if iter == 0:\n",
                "#         #     return\n",
                "#         # start = k % iter\n",
                "#         # print(offset, start, iter)\n",
                "#         # for i in range(iter - 1):\n",
                "#         #     temp = nums[offset + i]\n",
                "#         #     nums[offset + i] = nums[-start]\n",
                "#         #     nums[-start] = temp\n",
                "#         #     start -= 1\n",
                "#         #     if start == 0:\n",
                "#         #         start = k % iter"
            ],
            "outputs": [],
            "metadata": {}
        },
        {
            "cell_type": "code",
            "execution_count": 298,
            "source": [
                "class Solution:\n",
                "    def rotate(self, nums, k):\n",
                "        from math import gcd\n",
                "        end = len(nums)\n",
                "        if k >= end:\n",
                "            k = k % end\n",
                "        if k == 0:\n",
                "            return\n",
                "        for i in range(gcd(end, k)):\n",
                "            temp = nums[i]\n",
                "            j = i\n",
                "            offset = (j - k) % end\n",
                "            while i != offset:\n",
                "                nums[j] = nums[offset]\n",
                "                j =  offset\n",
                "                offset = (offset - k) % end\n",
                "            nums[j] = temp\n",
                "            "
            ],
            "outputs": [],
            "metadata": {}
        },
        {
            "cell_type": "code",
            "execution_count": null,
            "source": [
                "# [1, 2, 3, 4, 5, 6]\n",
                "\n",
                "# temp = 1\n",
                "# [5, 2, 3, 4, 5, 6]\n",
                "#  j           O\n",
                "# [5, 2, 3, 4, 3, 6]\n",
                "#        O     j\n",
                "# [5, 2, 3, 4, 5, 6]"
            ],
            "outputs": [],
            "metadata": {}
        },
        {
            "cell_type": "code",
            "execution_count": 295,
            "source": [
                "f = [1,2,3,4,5,6]\n",
                "ff = Solution()\n",
                "ff.rotate(f, 1)\n",
                "print(f)"
            ],
            "outputs": [
                {
                    "output_type": "stream",
                    "name": "stdout",
                    "text": [
                        "i = 0, j = 0, offset = 5\n",
                        "[6, 2, 3, 4, 5, 6]\n",
                        "[6, 2, 3, 4, 5, 5]\n",
                        "[6, 2, 3, 4, 4, 5]\n",
                        "[6, 2, 3, 3, 4, 5]\n",
                        "[6, 2, 2, 3, 4, 5]\n",
                        "[6, 1, 2, 3, 4, 5]\n"
                    ]
                }
            ],
            "metadata": {}
        },
        {
            "cell_type": "code",
            "execution_count": 296,
            "source": [
                "g = [1, 2, 3, 4, 5, 6, 7, 8, 9, 10, 11]\n",
                "print(g)\n",
                "x = Solution()\n",
                "x.rotate(g, 6)\n",
                "print(g)"
            ],
            "outputs": [
                {
                    "output_type": "stream",
                    "name": "stdout",
                    "text": [
                        "[1, 2, 3, 4, 5, 6, 7, 8, 9, 10, 11]\n",
                        "i = 0, j = 0, offset = 5\n",
                        "[6, 2, 3, 4, 5, 6, 7, 8, 9, 10, 11]\n",
                        "[6, 2, 3, 4, 5, 11, 7, 8, 9, 10, 11]\n",
                        "[6, 2, 3, 4, 5, 11, 7, 8, 9, 10, 5]\n",
                        "[6, 2, 3, 4, 10, 11, 7, 8, 9, 10, 5]\n",
                        "[6, 2, 3, 4, 10, 11, 7, 8, 9, 4, 5]\n",
                        "[6, 2, 3, 9, 10, 11, 7, 8, 9, 4, 5]\n",
                        "[6, 2, 3, 9, 10, 11, 7, 8, 3, 4, 5]\n",
                        "[6, 2, 8, 9, 10, 11, 7, 8, 3, 4, 5]\n",
                        "[6, 2, 8, 9, 10, 11, 7, 2, 3, 4, 5]\n",
                        "[6, 7, 8, 9, 10, 11, 7, 2, 3, 4, 5]\n",
                        "[6, 7, 8, 9, 10, 11, 1, 2, 3, 4, 5]\n"
                    ]
                }
            ],
            "metadata": {}
        },
        {
            "cell_type": "code",
            "execution_count": 254,
            "source": [
                "d = [-1,-100,3,99]\n",
                "dd = Solution()\n",
                "dd.rotate(d, 3)\n",
                "print(d)"
            ],
            "outputs": [
                {
                    "output_type": "stream",
                    "name": "stdout",
                    "text": [
                        "[99, 3, -100, -1]\n",
                        "[-1, -100, 3, 99]\n"
                    ]
                }
            ],
            "metadata": {}
        },
        {
            "cell_type": "code",
            "execution_count": 256,
            "source": [
                "g = [1, 2, 3, 4, 5, 6, 7, 8, 9, 10]\n",
                "print(g)\n",
                "x = Solution()\n",
                "x.rotate(g, 6)\n",
                "print(g)"
            ],
            "outputs": [
                {
                    "output_type": "stream",
                    "name": "stdout",
                    "text": [
                        "[1, 2, 3, 4, 5, 6, 7, 8, 9, 10]\n",
                        "[10, 9, 8, 7, 6, 5, 4, 3, 2, 1]\n",
                        "[1, 2, 3, 4, 5, 6, 7, 8, 9, 10]\n"
                    ]
                }
            ],
            "metadata": {}
        },
        {
            "cell_type": "code",
            "execution_count": 257,
            "source": [
                "a = [1, 2, 3, 4, 5, 6, 7, 8, 9]\n",
                "print(a)\n",
                "x = Solution()\n",
                "x.rotate(a, 5)\n",
                "print(a)"
            ],
            "outputs": [
                {
                    "output_type": "stream",
                    "name": "stdout",
                    "text": [
                        "[1, 2, 3, 4, 5, 6, 7, 8, 9]\n",
                        "[9, 8, 7, 6, 5, 4, 3, 2, 1]\n",
                        "[1, 2, 3, 4, 5, 6, 7, 8, 9]\n"
                    ]
                }
            ],
            "metadata": {}
        },
        {
            "cell_type": "code",
            "execution_count": 258,
            "source": [
                "# [1, 2, 3, 4 ,5 ,6, 7, 8, 9]\n",
                "\n",
                "# [3, 2, 1, 4, 5, 6, 7, 8, 9]\n",
                "# [3, 4, 1, 2, 5, 6, 7, 8, 9]\n",
                "# [5, 4, 1, 2, 3, 6, 7, 8, 9]\n",
                "# [5, 6, 1, 2, 3, 4, 7, 8, 9]\n",
                "# [7, 6, 1, 2, 3, 4, 5, 8, 9]\n",
                "# [7, 8, 1, 2, 3, 4, 5, 6, 9]\n",
                "# [9, 8, 1, 2, 3, 4, 5, 6, 7]\n",
                "# [8, 9, 1, 2, 3, 4, 5, 6, 7]"
            ],
            "outputs": [],
            "metadata": {}
        },
        {
            "cell_type": "code",
            "execution_count": 261,
            "source": [
                "b = [1]\n",
                "y = Solution()\n",
                "y.rotate(b, 2)\n",
                "print(b)"
            ],
            "outputs": [
                {
                    "output_type": "stream",
                    "name": "stdout",
                    "text": [
                        "[1]\n"
                    ]
                }
            ],
            "metadata": {}
        },
        {
            "cell_type": "code",
            "execution_count": 304,
            "source": [
                "\n",
                "c = [1,2,3,4,5,6,7,8,9,10,11,12,13,14,15,16,17,18,19,20,21,22,23,24,25,26,27]\n",
                "print(c)\n",
                "z = Solution()\n",
                "z.rotate(c, 13)\n",
                "print(c)"
            ],
            "outputs": [
                {
                    "output_type": "stream",
                    "name": "stdout",
                    "text": [
                        "[1, 2, 3, 4, 5, 6, 7, 8, 9, 10, 11, 12, 13, 14, 15, 16, 17, 18, 19, 20, 21, 22, 23, 24, 25, 26, 27]\n",
                        "[15, 16, 17, 18, 19, 20, 21, 22, 23, 24, 25, 26, 27, 1, 2, 3, 4, 5, 6, 7, 8, 9, 10, 11, 12, 13, 14]\n"
                    ]
                }
            ],
            "metadata": {}
        },
        {
            "cell_type": "code",
            "execution_count": null,
            "source": [
                "# [6, 7, 8, 9, 10, 11, 1, 2, 3, 4, 5]\n",
                "\n",
                "# [1, 2, 3, 4, 5, 11, 6, 7, 8, 9, 10]"
            ],
            "outputs": [],
            "metadata": {}
        }
    ],
    "metadata": {
        "orig_nbformat": 4,
        "language_info": {
            "name": "python",
            "version": "3.9.6",
            "mimetype": "text/x-python",
            "codemirror_mode": {
                "name": "ipython",
                "version": 3
            },
            "pygments_lexer": "ipython3",
            "nbconvert_exporter": "python",
            "file_extension": ".py"
        },
        "kernelspec": {
            "name": "python3",
            "display_name": "Python 3.9.6 64-bit ('main': conda)"
        },
        "interpreter": {
            "hash": "7d9266bd356547def222f65d05c9672e8a11d9fbffbf08b0fa6cace301c57591"
        }
    },
    "nbformat": 4,
    "nbformat_minor": 2
}